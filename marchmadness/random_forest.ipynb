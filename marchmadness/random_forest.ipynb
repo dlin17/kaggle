{
 "cells": [
  {
   "cell_type": "markdown",
   "metadata": {},
   "source": [
    "# Kaggle March Madness 2016"
   ]
  },
  {
   "cell_type": "code",
   "execution_count": 309,
   "metadata": {
    "collapsed": false
   },
   "outputs": [],
   "source": [
    "import numpy as np\n",
    "import pandas as pd\n",
    "import matplotlib.pyplot as plt\n",
    "import seaborn as sns\n",
    "\n",
    "from time import time\n",
    "from operator import itemgetter\n",
    "from scipy.stats import randint as sp_randint\n",
    "from sklearn.linear_model import LogisticRegression, SGDClassifier\n",
    "from sklearn.ensemble import RandomForestClassifier, AdaBoostClassifier\n",
    "from sklearn.grid_search import GridSearchCV, RandomizedSearchCV\n",
    "from sklearn.metrics import log_loss\n",
    "\n",
    "from __future__ import division\n",
    "from __future__ import print_function\n",
    "\n",
    "%matplotlib inline"
   ]
  },
  {
   "cell_type": "markdown",
   "metadata": {},
   "source": [
    "## Load and format data"
   ]
  },
  {
   "cell_type": "code",
   "execution_count": 258,
   "metadata": {
    "collapsed": false
   },
   "outputs": [],
   "source": [
    "# load data\n",
    "\n",
    "results = pd.read_csv('data/ncaa_compiled_matchups.csv')\n",
    "teams = pd.read_csv('data/Teams.csv')\n",
    "kenpom = pd.read_csv('data/ncaa_kenpom_pretourney.csv')\n",
    "seeds = pd.read_csv('data/TourneySeeds.csv')\n",
    "massey = pd.read_csv('data/massey.csv')\n",
    "season_results = pd.read_csv('data/ncaa_regular_season_records.csv')\n",
    "\n",
    "teams.columns = ['Team','Team_Name']\n",
    "seeds = pd.merge(seeds, teams, how='left')\n",
    "seeds.columns = ['Season','Seed','Team_id','Team_Name']\n",
    "seeds = pd.merge(seeds, season_results)\n",
    "\n",
    "kenpom['Team'] = kenpom['Team'].str.strip()\n",
    "massey_pivot = pd.pivot_table(massey, index=['season','team'], columns='sys_name', values='orank', fill_value=999).reset_index()"
   ]
  },
  {
   "cell_type": "markdown",
   "metadata": {},
   "source": [
    "## Merge matchups and external stats"
   ]
  },
  {
   "cell_type": "code",
   "execution_count": 459,
   "metadata": {
    "collapsed": false
   },
   "outputs": [
    {
     "name": "stdout",
     "output_type": "stream",
     "text": [
      "Matchups shape: (1694, 8)\n",
      "Merged stats shape: (923, 24)\n",
      "Output shape: (1690, 55)\n",
      "Final output shape: (1690, 569)\n"
     ]
    }
   ],
   "source": [
    "def merge_data(team_names, matchups, stats, ljoin = ['Season','Team_Name'], rjoin = ['Year','Team'], training_set=True):\n",
    "    \"\"\"Merge a dataset matchups with ['Season','Wteam','Lteam'] to kenpom and massey\"\"\"\n",
    "    \n",
    "    merged_stats = pd.merge(team_names, stats, left_on=ljoin, right_on=rjoin)\n",
    "    join1 = pd.merge(matchups, merged_stats, left_on=['Season','Wteam'], right_on=['Season','Team_id'])\n",
    "    output = pd.merge(join1, merged_stats, left_on=['Season','Lteam'], right_on=['Season','Team_id'])\n",
    "    \n",
    "    # feature engineering\n",
    "    \n",
    "#     output['win_pyth'] = output['Wins_x'] ** 2 / (output['Wins_x'] ** 2 + output['Wins_y'] ** 2)\n",
    "#     output['win_perc_x'] = output.Wins_x / (output.Wins_x + output.Losses_x)\n",
    "#     output['win_perc_y'] = output.Wins_y / (output.Wins_y + output.Losses_y)\n",
    "#     output['win_pyth_perc'] = output['win_perc_x'] ** 2 / (output['win_perc_x'] ** 2 + output['win_perc_y'] ** 2)\n",
    "    \n",
    "    if training_set:\n",
    "        output['score_diff'] = output['Wscore'] - output['Lscore']\n",
    "    \n",
    "    print('Matchups shape: %s' %(matchups[matchups.Season > 2002].shape,))\n",
    "    print('Merged stats shape: %s' %(merged_stats.shape,))\n",
    "    print('Output shape: %s' %(output[output.Season > 2002].shape,))\n",
    "    \n",
    "    massey1 = pd.merge(output, massey_pivot, left_on=['Season','Wteam'], right_on=['season','team'])\n",
    "    output_massey = pd.merge(massey1, massey_pivot, left_on=['Season','Lteam'], right_on=['season','team'])\n",
    "\n",
    "    output_massey = diff_columns(output_massey, pd.unique(massey.sys_name))\n",
    "    output_massey = diff_columns(output_massey, kenpom_columns)\n",
    "    \n",
    "    return output_massey\n",
    "\n",
    "def diff_columns(d, cols):\n",
    "    for metric in cols:\n",
    "        new_col = metric + '_diff'\n",
    "        pyth_col = metric + '_pyth'\n",
    "        x_col = metric + '_x'\n",
    "        y_col = metric + '_y'\n",
    "        d[new_col] = d[x_col] - d[y_col]\n",
    "        d[pyth_col] = d[x_col] ** 2 / (d[x_col] ** 2 + d[y_col] ** 2)\n",
    "    return d\n",
    "\n",
    "kenpom_columns = ['Pythag','EffD','AdjEffD'\n",
    "#                ,'Tempo','AdjTempo','OE','DE'\n",
    "                 ]\n",
    "results_merged_massey = merge_data(seeds, results.dropna(), kenpom)\n",
    "\n",
    "print('Final output shape: %s' %(results_merged_massey.shape,))\n",
    "\n",
    "massey_choose = ['AVG', 'WLK', 'DOL', 'MOR', 'POM', 'BOB', 'SAG'\n",
    "                 , 'RTH', 'WOL', 'RPI', 'USA', 'CNG', 'COL']\n",
    "\n",
    "# massey_choose = massey_pivot.columns[2:]\n",
    "\n",
    "kenpom_only = [metric + '_diff' for metric in kenpom_columns]\n",
    "                \n",
    "massey_only = [metric + '_pyth' for metric in massey_choose]\n",
    "\n",
    "columns_to_keep = ['Season','Wteam','Lteam'] + \\\n",
    "                    kenpom_only + massey_only + ['score_diff']\n"
   ]
  },
  {
   "cell_type": "code",
   "execution_count": 487,
   "metadata": {
    "collapsed": false
   },
   "outputs": [
    {
     "name": "stdout",
     "output_type": "stream",
     "text": [
      "Training data shape: (1556, 16)\n",
      "Training labels shape: (1556,)\n",
      "Test data shape: (134, 16)\n",
      "Test labels shape: (134,)\n"
     ]
    }
   ],
   "source": [
    "def prepare_datasets(raw_data, columns_keep, season_cutoff, stochastic=False, training_set=True):\n",
    "    intermediate = raw_data[columns_keep]\n",
    "    \n",
    "    if stochastic:\n",
    "        index = np.random.permutation(raw_data.shape[0])\n",
    "        training_size = raw_data.shape[0] // 100 * 99\n",
    "\n",
    "        data_for_training = intermediate.iloc[index,:]\n",
    "\n",
    "        train_set = intermediate[:training_size]\n",
    "        test_set = intermediate[training_size:]\n",
    "\n",
    "    else:\n",
    "        data_for_training = intermediate[intermediate.Season < season_cutoff]\n",
    "\n",
    "        train_set = intermediate[intermediate.Season < season_cutoff]\n",
    "        test_set = intermediate[intermediate.Season >= season_cutoff]\n",
    "\n",
    "    trd = train_set.iloc[:,3:-1]\n",
    "    trl = train_set.iloc[:,-1]\n",
    "\n",
    "    ttd = test_set.iloc[:,3:-1]\n",
    "    ttl = test_set.iloc[:,-1]\n",
    "    \n",
    "    cvd = intermediate.iloc[:,3:-1]\n",
    "    cvl = intermediate.iloc[:,-1] > 0\n",
    "\n",
    "    print('Training data shape: %s' %(trd.shape,))\n",
    "    print('Training labels shape: %s' %(trl.shape,))\n",
    "    print('Test data shape: %s' %(ttd.shape,))\n",
    "    print('Test labels shape: %s' %(ttl.shape,))\n",
    "    \n",
    "    return trd, trl, ttd, ttl, cvd, cvl\n",
    "\n",
    "training_data, training_labels, \\\n",
    "        test_data, test_labels, \\\n",
    "        cv_data, cv_labels = prepare_datasets(results_merged_massey, columns_to_keep, 2015, stochastic=False)\n",
    "    "
   ]
  },
  {
   "cell_type": "markdown",
   "metadata": {},
   "source": [
    "## Random forest classifier"
   ]
  },
  {
   "cell_type": "code",
   "execution_count": 488,
   "metadata": {
    "collapsed": false
   },
   "outputs": [
    {
     "name": "stdout",
     "output_type": "stream",
     "text": [
      "\n",
      "**Leaderboard rating: 0.5287**\n",
      "\n",
      "Model accuracy of 0.724\n",
      "\n",
      "Feature Importances:\n",
      "\n"
     ]
    },
    {
     "data": {
      "image/png": "[encoded data removed]",
      "text/plain": [
       "<matplotlib.figure.Figure at 0x114f07890>"
      ]
     },
     "metadata": {},
     "output_type": "display_data"
    }
   ],
   "source": [
    "params = {'criterion': 'entropy'\n",
    "          ,'max_depth': 3\n",
    "          ,'max_features': 7\n",
    "          ,'n_estimators': 500\n",
    "          ,'n_jobs': -1\n",
    "         }\n",
    "\n",
    "clf = RandomForestClassifier(**params)\n",
    "clf.fit(training_data, training_labels > 0)\n",
    "predicted_scores = clf.predict(test_data)\n",
    "\n",
    "predicted_probs = clf.predict_proba(test_data)\n",
    "\n",
    "print('\\n**Leaderboard rating: %.4f**'%(log_loss(test_labels > 0, predicted_probs[:,1], eps=0.03)))\n",
    "\n",
    "print('\\nModel accuracy of %.3f\\n\\nFeature Importances:\\n' \n",
    "      %np.mean(predicted_scores == (test_labels > 0).values))\n",
    "\n",
    "feat_import = sorted(zip(test_data.columns, clf.feature_importances_), key=lambda tup: tup[1], reverse=True)\n",
    "\n",
    "plt.figure(figsize=(12,5))\n",
    "ax = sns.barplot(pd.DataFrame(feat_import)[1], pd.DataFrame(feat_import)[0], orient=\"h\", palette='Blues_d')\n",
    "rf_probas = predicted_probs.copy()"
   ]
  },
  {
   "cell_type": "code",
   "execution_count": 492,
   "metadata": {
    "collapsed": false
   },
   "outputs": [
    {
     "data": {
      "image/png": "[encoded data removed]",
      "text/plain": [
       "<matplotlib.figure.Figure at 0x11215b9d0>"
      ]
     },
     "metadata": {},
     "output_type": "display_data"
    }
   ],
   "source": [
    "epsilons = np.linspace(0,0.3)\n",
    "ratings = [log_loss(test_labels > 0, predicted_probs[:,1], eps=clip) for clip in epsilons]\n",
    "\n",
    "\n",
    "ax = sns.tsplot(ratings, epsilons)\n"
   ]
  },
  {
   "cell_type": "markdown",
   "metadata": {},
   "source": [
    "## Logistic Regression"
   ]
  },
  {
   "cell_type": "code",
   "execution_count": 497,
   "metadata": {
    "collapsed": false
   },
   "outputs": [
    {
     "name": "stdout",
     "output_type": "stream",
     "text": [
      "\n",
      "**Leaderboard rating: 0.5131**\n",
      "\n",
      "Model accuracy of 0.746\n",
      "\n",
      "Feature Importances:\n",
      "\n"
     ]
    },
    {
     "data": {
      "image/png": "[encoded data removed]",
      "text/plain": [
       "<matplotlib.figure.Figure at 0x1136c7310>"
      ]
     },
     "metadata": {},
     "output_type": "display_data"
    }
   ],
   "source": [
    "clf = LogisticRegression(C=0.01, penalty='l1')\n",
    "clf.fit(training_data, training_labels > 0)\n",
    "predicted_scores = clf.predict(test_data)\n",
    "\n",
    "predicted_probs = clf.predict_proba(test_data)\n",
    "\n",
    "print('\\n**Leaderboard rating: %.4f**'%(log_loss(test_labels > 0, predicted_probs[:,1], eps=0.01)))\n",
    "\n",
    "print('\\nModel accuracy of %.3f\\n\\nFeature Importances:\\n' \n",
    "      %np.mean(predicted_scores == (test_labels > 0).values))\n",
    "\n",
    "feat_import = sorted(zip(test_data.columns, clf.coef_.reshape(len(test_data.columns),)), key=lambda tup: tup[1], reverse=True)\n",
    "\n",
    "plt.figure(figsize=(12,5))\n",
    "ax = sns.barplot(pd.DataFrame(feat_import)[1], pd.DataFrame(feat_import)[0], orient=\"h\", palette='Blues_d')\n",
    "\n",
    "lr_probas = predicted_probs.copy()"
   ]
  },
  {
   "cell_type": "code",
   "execution_count": 467,
   "metadata": {
    "collapsed": false
   },
   "outputs": [
    {
     "data": {
      "image/png": "[encoded data removed]",
      "text/plain": [
       "<matplotlib.figure.Figure at 0x110d48ed0>"
      ]
     },
     "metadata": {},
     "output_type": "display_data"
    }
   ],
   "source": [
    "epsilons = np.linspace(0,0.3)\n",
    "ratings = [log_loss(test_labels > 0, predicted_probs[:,1], eps=clip) for clip in epsilons]\n",
    "\n",
    "\n",
    "ax = sns.tsplot(ratings, epsilons)\n",
    "\n"
   ]
  },
  {
   "cell_type": "code",
   "execution_count": 491,
   "metadata": {
    "collapsed": false
   },
   "outputs": [
    {
     "data": {
      "text/plain": [
       "<matplotlib.axes._subplots.AxesSubplot at 0x1110ee690>"
      ]
     },
     "execution_count": 491,
     "metadata": {},
     "output_type": "execute_result"
    },
    {
     "data": {
      "image/png": "[encoded data removed]",
      "text/plain": [
       "<matplotlib.figure.Figure at 0x112ca4810>"
      ]
     },
     "metadata": {},
     "output_type": "display_data"
    }
   ],
   "source": [
    "def return_weighted_probs(l1, l2, w1, clips):\n",
    "    l1 = np.clip(l1, clips[0], 1 - clips[0]) * w1\n",
    "    l2 = np.clip(l2, clips[1], 1 - clips[1]) * (1 - w1)\n",
    "    return l1 + l2\n",
    "\n",
    "\n",
    "alphas = np.linspace(0, 1)\n",
    "ratings = [log_loss(test_labels > 0, return_weighted_probs(rf_probas, lr_probas, alpha, [0.12, 0.12]), eps=0.01) for alpha in alphas]\n",
    "\n",
    "sns.tsplot(ratings, alphas)"
   ]
  },
  {
   "cell_type": "markdown",
   "metadata": {},
   "source": [
    "## Grid search for hyperparameters"
   ]
  },
  {
   "cell_type": "code",
   "execution_count": 490,
   "metadata": {
    "collapsed": false,
    "scrolled": false
   },
   "outputs": [
    {
     "name": "stdout",
     "output_type": "stream",
     "text": [
      "Model with rank: 1\n",
      "Mean validation score: -0.536 (std: 0.060)\n",
      "Parameters: {'max_features': 5, 'max_depth': 3}\n",
      "\n",
      "Model with rank: 2\n",
      "Mean validation score: -0.537 (std: 0.061)\n",
      "Parameters: {'max_features': 7, 'max_depth': 3}\n",
      "\n",
      "Model with rank: 3\n",
      "Mean validation score: -0.538 (std: 0.062)\n",
      "Parameters: {'max_features': None, 'max_depth': 3}\n",
      "\n"
     ]
    }
   ],
   "source": [
    "# Utility function to report best scores\n",
    "def report(grid_scores, n_top=3):\n",
    "    top_scores = sorted(grid_scores, key=itemgetter(1), reverse=True)[:n_top]\n",
    "    for i, score in enumerate(top_scores):\n",
    "        print(\"Model with rank: {0}\".format(i + 1))\n",
    "        print(\"Mean validation score: {0:.3f} (std: {1:.3f})\".format(\n",
    "              score.mean_validation_score,\n",
    "              np.std(score.cv_validation_scores)))\n",
    "        print(\"Parameters: {0}\".format(score.parameters))\n",
    "        print(\"\")\n",
    "\n",
    "def log_loss_scorer(estimator, x, y):\n",
    "    y_pred = estimator.predict(x)\n",
    "    return log_loss(y, y_pred, eps=0.15)\n",
    "\n",
    "clf = RandomForestClassifier(n_estimators=250, criterion='entropy')\n",
    "# specify parameters and distributions to sample from\n",
    "param_dist = {\"max_depth\": [3, None]\n",
    "              ,\"max_features\": [5, 7, None]\n",
    "#               ,\"min_samples_split\": range(5, 15, 2)\n",
    "#               ,\"min_samples_leaf\": range(5, 15, 2)\n",
    "              }\n",
    "\n",
    "# run randomized search\n",
    "random_search = GridSearchCV(clf, param_grid=param_dist, cv=10, n_jobs=-1, scoring='log_loss')\n",
    "\n",
    "start = time()\n",
    "random_search.fit(cv_data, cv_labels)\n",
    "\n",
    "report(random_search.grid_scores_)"
   ]
  },
  {
   "cell_type": "code",
   "execution_count": 496,
   "metadata": {
    "collapsed": false
   },
   "outputs": [
    {
     "name": "stdout",
     "output_type": "stream",
     "text": [
      "Model with rank: 1\n",
      "Mean validation score: -0.539 (std: 0.055)\n",
      "Parameters: {'penalty': 'l1', 'C': 0.01}\n",
      "\n",
      "Model with rank: 2\n",
      "Mean validation score: -0.539 (std: 0.057)\n",
      "Parameters: {'penalty': 'l1', 'C': 0.1}\n",
      "\n",
      "Model with rank: 3\n",
      "Mean validation score: -0.539 (std: 0.057)\n",
      "Parameters: {'penalty': 'l2', 'C': 0.01}\n",
      "\n"
     ]
    }
   ],
   "source": [
    "clf = LogisticRegression()\n",
    "# specify parameters and distributions to sample from\n",
    "param_dist = {'C': [0.01, 0.1, 1, 0.001]\n",
    "              ,'penalty': ['l1','l2']\n",
    "            }\n",
    "\n",
    "# run randomized search\n",
    "random_search = GridSearchCV(clf, param_grid=param_dist, cv=10, scoring='log_loss')\n",
    "\n",
    "start = time()\n",
    "random_search.fit(cv_data[['AdjEffD_diff','EffD_diff']], cv_labels)\n",
    "\n",
    "report(random_search.grid_scores_)"
   ]
  },
  {
   "cell_type": "markdown",
   "metadata": {},
   "source": [
    "## Generate Scoring File"
   ]
  },
  {
   "cell_type": "code",
   "execution_count": null,
   "metadata": {
    "collapsed": false
   },
   "outputs": [],
   "source": [
    "sub_matchups = pd.read_csv('data/submission_file.csv')\n",
    "\n",
    "columns_to_keep_final = [x for x in columns_to_keep if x not in ['Wscore','Lscore','score_diff']]\n",
    "submission_file = merge_data(seeds, sub_matchups, kenpom, training_set=False)[columns_to_keep_final]\n",
    "submission_file_data = submission_file.iloc[:,5:]\n",
    "\n",
    "print('Final submission test data shape: %s' %(submission_file_data.shape,))\n",
    "\n",
    "def ftostr(x):\n",
    "    return str(int(x))\n",
    "\n",
    "predicted_scores_final = clf.predict_proba(submission_file_data)\n",
    "epsilon = 0.09\n",
    "predicted_scores_final = np.clip(predicted_scores_final, epsilon, 1 - epsilon)\n",
    "\n",
    "submission_file['id'] = submission_file.apply(lambda x: ftostr(x.Season) + '_' + ftostr(x.Wteam) + '_' + ftostr(x.Lteam), axis=1)\n",
    "\n",
    "submission_output = pd.DataFrame(zip(submission_file.id, predicted_scores_final[:,1]), columns=['id','pred'])\n",
    "\n",
    "submission_output.to_csv('submission.csv', index=False)"
   ]
  },
  {
   "cell_type": "code",
   "execution_count": null,
   "metadata": {
    "collapsed": false
   },
   "outputs": [],
   "source": [
    "sns.distplot(predicted_scores_final[:,1])"
   ]
  },
  {
   "cell_type": "code",
   "execution_count": null,
   "metadata": {
    "collapsed": false
   },
   "outputs": [],
   "source": [
    "sum(np.array([0.5, 1, 1.5]) ** 2)/6"
   ]
  }
 ],
 "metadata": {
  "kernelspec": {
   "display_name": "Python 2",
   "language": "python",
   "name": "python2"
  },
  "language_info": {
   "codemirror_mode": {
    "name": "ipython",
    "version": 2
   },
   "file_extension": ".py",
   "mimetype": "text/x-python",
   "name": "python",
   "nbconvert_exporter": "python",
   "pygments_lexer": "ipython2",
   "version": "2.7.11"
  }
 },
 "nbformat": 4,
 "nbformat_minor": 0
}
